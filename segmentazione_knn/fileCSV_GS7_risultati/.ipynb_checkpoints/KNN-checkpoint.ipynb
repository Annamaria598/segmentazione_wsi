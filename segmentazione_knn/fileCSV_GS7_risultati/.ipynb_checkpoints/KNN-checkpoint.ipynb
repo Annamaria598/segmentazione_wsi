{
 "cells": [
  {
   "cell_type": "code",
   "execution_count": 1,
   "metadata": {},
   "outputs": [
    {
     "ename": "ModuleNotFoundError",
     "evalue": "No module named 'classificazione_knn'",
     "output_type": "error",
     "traceback": [
      "\u001b[0;31m---------------------------------------------------------------------------\u001b[0m",
      "\u001b[0;31mModuleNotFoundError\u001b[0m                       Traceback (most recent call last)",
      "\u001b[0;32m<ipython-input-1-a1072a34be26>\u001b[0m in \u001b[0;36m<module>\u001b[0;34m\u001b[0m\n\u001b[0;32m----> 1\u001b[0;31m \u001b[0;32mfrom\u001b[0m \u001b[0mclassificazione_knn\u001b[0m \u001b[0;32mimport\u001b[0m \u001b[0mimage_to_data\u001b[0m\u001b[0;34m,\u001b[0m\u001b[0;31m\\\u001b[0m\u001b[0;34m\u001b[0m\u001b[0;34m\u001b[0m\u001b[0m\n\u001b[0m\u001b[1;32m      2\u001b[0m     \u001b[0mcolimage_to_classes\u001b[0m\u001b[0;34m,\u001b[0m\u001b[0;31m\\\u001b[0m\u001b[0;34m\u001b[0m\u001b[0;34m\u001b[0m\u001b[0m\n\u001b[1;32m      3\u001b[0m     \u001b[0mlocal_entropy\u001b[0m\u001b[0;34m,\u001b[0m\u001b[0;31m\\\u001b[0m\u001b[0;34m\u001b[0m\u001b[0;34m\u001b[0m\u001b[0m\n\u001b[1;32m      4\u001b[0m     \u001b[0mclasses_to_colimage\u001b[0m\u001b[0;34m,\u001b[0m\u001b[0;31m\\\u001b[0m\u001b[0;34m\u001b[0m\u001b[0;34m\u001b[0m\u001b[0m\n\u001b[1;32m      5\u001b[0m     \u001b[0mpostprocessing_classes\u001b[0m\u001b[0;34m,\u001b[0m\u001b[0;31m\\\u001b[0m\u001b[0;34m\u001b[0m\u001b[0;34m\u001b[0m\u001b[0m\n",
      "\u001b[0;31mModuleNotFoundError\u001b[0m: No module named 'classificazione_knn'"
     ]
    }
   ],
   "source": [
    "from classificazione_knn import image_to_data,\\\n",
    "    colimage_to_classes,\\\n",
    "    local_entropy,\\\n",
    "    classes_to_colimage,\\\n",
    "    postprocessing_classes,\\\n",
    "    select_layers,\\\n",
    "    image_segmentation,\\\n",
    "    train_on_multi,\\\n",
    "    test_on_multiple_images\n",
    "from sklearn.neighbors import KNeighborsClassifier\n",
    "import numpy as np\n",
    "import imageio\n",
    "import matplotlib.pyplot as plt\n",
    "from sklearn.metrics import matthews_corrcoef, plot_confusion_matrix"
   ]
  },
  {
   "cell_type": "code",
   "execution_count": null,
   "metadata": {},
   "outputs": [],
   "source": [
    "# Creazione del modello allenandolo su più immagini\n",
    "knn, score, conf_matrix = train_on_multi(\n",
    "    [\"img/pelle303R.PNG\", \"img/pelle304R.PNG\", \"img/pelle601R.PNG\"],\n",
    "    [\"img/pelle303R_colors.PNG\", \"img/pelle304R_colors.PNG\", \"img/pelle601R_colors.PNG\"],\n",
    "    [\"img/pelle301R.PNG\", \"img/pelle302R.PNG\", \"img/pelle305R.PNG\"],\n",
    "    [\"img/pelle301R_colors.PNG\", \"img/pelle302R_colors.PNG\", \"img/pelle305R_colors.PNG\"],\n",
    "    window_size=30,\n",
    "    neighbors=50,\n",
    "    window_size_postprocessing=6,\n",
    "    feature_names=['R_variance', 'G_variance', 'B_variance','H_mf','E_mf','D_mf', 'entropy']\n",
    ")\n",
    "\n",
    "print(\"Score: {}\".format(score))"
   ]
  },
  {
   "cell_type": "code",
   "execution_count": null,
   "metadata": {},
   "outputs": [],
   "source": [
    "# Generazione dei grafici su una sola immagine di test\n",
    "image_segmentation(\n",
    "    knn,\n",
    "    \"img/pelle302R.PNG\",\n",
    "    \"img/pelle302R_colors.PNG\",\n",
    "    window_size=30,\n",
    "    window_size_postprocessing=6,\n",
    "    feature_names=['R_variance', 'G_variance', 'B_variance','H_mf','E_mf','D_mf', 'entropy']\n",
    ")"
   ]
  },
  {
   "cell_type": "code",
   "execution_count": null,
   "metadata": {},
   "outputs": [],
   "source": [
    "#np.seterr(\"raise\")\n",
    "np.seterr(\"warn\")\n",
    "\n",
    "# Riutilizziamo il modello creato prima\n",
    "# ma calcoliamo il matthews coefficient medio per diverse immagini di test\n",
    "mc, cm = test_on_multiple_images(knn,\n",
    "                        [\"img/pelle302R.PNG\"],\n",
    "                        [\"img/pelle302R_colors.PNG\"],\n",
    "                        window_size=30,\n",
    "                        feature_names=['R_variance', 'G_variance', 'B_variance','H_mf','E_mf','D_mf', 'entropy'],\n",
    "                        window_size_postprocessing=6)"
   ]
  },
  {
   "cell_type": "code",
   "execution_count": null,
   "metadata": {},
   "outputs": [],
   "source": []
  },
  {
   "cell_type": "code",
   "execution_count": null,
   "metadata": {},
   "outputs": [],
   "source": [
    "# Calcolo e plot della confusion matrix\n",
    "print(mc) # matthews coeff\n",
    "print(cm) # confusion matrix"
   ]
  },
  {
   "cell_type": "code",
   "execution_count": null,
   "metadata": {},
   "outputs": [],
   "source": [
    "np.sum(cm)"
   ]
  },
  {
   "cell_type": "code",
   "execution_count": null,
   "metadata": {},
   "outputs": [],
   "source": [
    "cm[0].sum()"
   ]
  },
  {
   "cell_type": "code",
   "execution_count": null,
   "metadata": {},
   "outputs": [],
   "source": [
    "def normalizza_cm(cm):\n",
    "    \n",
    "    new_mat = []\n",
    "    \n",
    "    for riga in cm:\n",
    "        new_mat.append([])\n",
    "        tot_riga = riga.sum()\n",
    "        for v in riga:\n",
    "            if v==0:\n",
    "                new_mat[-1].append(0)\n",
    "            else:\n",
    "                new_mat[-1].append(v/tot_riga)\n",
    "    \n",
    "    return np.array(new_mat)"
   ]
  },
  {
   "cell_type": "code",
   "execution_count": null,
   "metadata": {},
   "outputs": [],
   "source": [
    "normalizza_cm(cm)"
   ]
  },
  {
   "cell_type": "code",
   "execution_count": null,
   "metadata": {},
   "outputs": [],
   "source": [
    "# Mostrare la matrice di confusione\n",
    "\n",
    "cm_norm = normalizza_cm(cm)\n",
    "labels = [None, \"vetrino\",\"strato corneo\",\"epidermide\",\"derma\",\"vasi\"]\n",
    "\n",
    "fig = plt.figure(figsize=(8,8))\n",
    "ax = fig.add_subplot(111)\n",
    "cax = ax.matshow(cm_norm, interpolation='nearest', cmap=\"Blues\")\n",
    "fig.colorbar(cax)\n",
    "\n",
    "for (i, j), z in np.ndenumerate(cm_norm):\n",
    "    ax.text(j, i, '{}'.format(str(z)[:5]), ha='center', va='center', bbox=dict(boxstyle='round', facecolor='white', edgecolor=\"white\"))\n",
    "\n",
    "ax.set_xticklabels(labels, rotation=\"vertical\")\n",
    "ax.set_yticklabels(labels)"
   ]
  },
  {
   "cell_type": "code",
   "execution_count": null,
   "metadata": {},
   "outputs": [],
   "source": []
  }
 ],
 "metadata": {
  "kernelspec": {
   "display_name": "Python 3",
   "language": "python",
   "name": "python3"
  },
  "language_info": {
   "codemirror_mode": {
    "name": "ipython",
    "version": 3
   },
   "file_extension": ".py",
   "mimetype": "text/x-python",
   "name": "python",
   "nbconvert_exporter": "python",
   "pygments_lexer": "ipython3",
   "version": "3.8.3"
  }
 },
 "nbformat": 4,
 "nbformat_minor": 4
}
